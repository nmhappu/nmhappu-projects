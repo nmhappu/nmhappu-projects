{
 "cells": [
  {
   "attachments": {},
   "cell_type": "markdown",
   "metadata": {},
   "source": [
    "# Unit 11 ~ LIST MANIPULATION"
   ]
  },
  {
   "attachments": {},
   "cell_type": "markdown",
   "metadata": {},
   "source": [
    "#### Page 375 - ex. 11.1"
   ]
  },
  {
   "cell_type": "code",
   "execution_count": 6,
   "metadata": {},
   "outputs": [
    {
     "name": "stdout",
     "output_type": "stream",
     "text": [
      "Index of : q is 0 and -6\n",
      "Index of : w is 1 and -5\n",
      "Index of : e is 2 and -4\n",
      "Index of : r is 3 and -3\n",
      "Index of : t is 4 and -2\n",
      "Index of : y is 5 and -1\n"
     ]
    }
   ],
   "source": [
    "#Program to print elements of a list [\"q\",\"w\",\"e\",\"r\",\"t\",\"y\"] in seperate lines along with element's both indexes\n",
    "#(+ve and -ve)\n",
    "\n",
    "l1 = [\"q\",\"w\",\"e\",\"r\",\"t\",\"y\"]\n",
    "le = len(l1)\n",
    "for a in range(le):\n",
    "    print(\"Index of :\",l1[a],\"is\",a,\"and\",(a-le))"
   ]
  },
  {
   "attachments": {},
   "cell_type": "markdown",
   "metadata": {},
   "source": [
    "#### Page 380 - ex. 11.2"
   ]
  },
  {
   "cell_type": "code",
   "execution_count": 10,
   "metadata": {},
   "outputs": [
    {
     "name": "stdout",
     "output_type": "stream",
     "text": [
      "0\n",
      "1\n",
      "2\n",
      "3\n",
      "4\n",
      "5\n",
      "6\n",
      "7\n",
      "8\n",
      "9\n",
      "10\n",
      "11\n",
      "12\n",
      "13\n",
      "14\n",
      "15\n",
      "16\n",
      "17\n",
      "18\n",
      "19\n",
      "20\n"
     ]
    }
   ],
   "source": [
    "#Extract two list-slices out of a given list of numbers. Display and print the \n",
    "#sum of elements of first list-slice which contains every other elements of the list\n",
    "#between indexes 5 to 15. Program should also display the average of elements\n",
    "#in the second list slice that contains every forth element of the list. (The given list contains numbers from 1 - 20)\n",
    "\n",
    "list1 = (range(1,21)) # In textbook => lst = [1,2,3,4.......,20]\n",
    "sliced_list1 = list1"
   ]
  },
  {
   "cell_type": "code",
   "execution_count": 3,
   "metadata": {},
   "outputs": [
    {
     "name": "stdout",
     "output_type": "stream",
     "text": [
      "Current list is : [10, 20, 30, 40, 50, 60, 70]\n",
      "\n",
      "Main Menu\n",
      "1.Insert an Element\n",
      "2.Delete an Element\n",
      "3.Exit this program\n",
      "\n",
      "\n",
      "Deletion Menu\n",
      "1. Delete using Value inside a list.\n",
      "2. Delete using Position2\n",
      "3. Delete based on a range inside a list [x:y]\n",
      "\n",
      "~Modified List : [10, 20, 30, 40, 50, 70] ~\n",
      "\n",
      "Main Menu\n",
      "1.Insert an Element\n",
      "2.Delete an Element\n",
      "3.Exit this program\n",
      "\n"
     ]
    },
    {
     "ename": "ValueError",
     "evalue": "invalid literal for int() with base 10: ''",
     "output_type": "error",
     "traceback": [
      "\u001b[1;31m---------------------------------------------------------------------------\u001b[0m",
      "\u001b[1;31mValueError\u001b[0m                                Traceback (most recent call last)",
      "Cell \u001b[1;32mIn [3], line 9\u001b[0m\n\u001b[0;32m      3\u001b[0m \u001b[39mwhile\u001b[39;00m \u001b[39mTrue\u001b[39;00m:\n\u001b[0;32m      4\u001b[0m     \u001b[39mprint\u001b[39m(\u001b[39m\"\"\"\u001b[39m\u001b[39m\\n\u001b[39;00m\u001b[39mMain Menu\u001b[39m\n\u001b[0;32m      5\u001b[0m \u001b[39m1.Insert an Element\u001b[39m\n\u001b[0;32m      6\u001b[0m \u001b[39m2.Delete an Element\u001b[39m\n\u001b[0;32m      7\u001b[0m \u001b[39m3.Exit this program\u001b[39m\u001b[39m\\n\u001b[39;00m\u001b[39m\"\"\"\u001b[39m)\n\u001b[1;32m----> 9\u001b[0m     sel\u001b[39m=\u001b[39m\u001b[39mint\u001b[39;49m(\u001b[39minput\u001b[39;49m(\u001b[39m\"\u001b[39;49m\u001b[39mEnter your selection :\u001b[39;49m\u001b[39m\"\u001b[39;49m))\n\u001b[0;32m     10\u001b[0m     \u001b[39mif\u001b[39;00m sel \u001b[39m==\u001b[39m \u001b[39m1\u001b[39m:\n\u001b[0;32m     11\u001b[0m           inx \u001b[39m=\u001b[39m \u001b[39mint\u001b[39m(\u001b[39minput\u001b[39m(\u001b[39m\"\u001b[39m\u001b[39mInsert at which position of list :\u001b[39m\u001b[39m\"\u001b[39m))\n",
      "\u001b[1;31mValueError\u001b[0m: invalid literal for int() with base 10: ''"
     ]
    }
   ],
   "source": [
    "a=[10,20,30,40,50,60,70]\n",
    "print(\"Current list is :\",a)\n",
    "while True:\n",
    "    print(\"\"\"\\nMain Menu\n",
    "1.Insert an Element\n",
    "2.Delete an Element\n",
    "3.Exit this program\\n\"\"\")\n",
    "\n",
    "    sel=int(input(\"Enter your selection :\"))\n",
    "    if sel == 1:\n",
    "          inx = int(input(\"Insert at which position of list :\"))\n",
    "          value = int(input(\"Numbers to be inserted :\"))\n",
    "          a.insert(inx,value)\n",
    "          print(\"\\n\",a,\"\\n\")\n",
    "\n",
    "    elif sel == 2:\n",
    "        print(\"\"\"\\nDeletio  n Menu\n",
    "1. Delete using Value inside a list.\n",
    "2. Delete using Position\n",
    "3. Delete based on a range inside a list [x:y]\\n\"\"\")\n",
    "\n",
    "        sel_a = int(input(\"Enter your selection :\"))\n",
    "\n",
    "        if sel_a == 1:\n",
    "            inx = int(input(\"Enter your value to be removed :\"))\n",
    "            a.remove(inx)\n",
    "            print(\"~Modified List :\",a,\"~\")\n",
    "\n",
    "\n",
    "        elif sel_a == 2:\n",
    "            inx = int(input(\"Position of element to be removed :\"))\n",
    "            a.pop(inx)\n",
    "            print(\"~Modified List :\",a,\"~\")\n",
    "\n",
    "            \n",
    "        elif sel_a == 3:\n",
    "            r1 = int(input(\"Remove from index :\"))\n",
    "            r2 = int(input(\"Till index : \"))\n",
    "            del  a[r1:r2]\n",
    "            print(\"~Modified List :\",a,\"~\")\n",
    "\n",
    "    elif sel == 3:\n",
    "        exit()\n",
    "      \n"
   ]
  }
 ],
 "metadata": {
  "kernelspec": {
   "display_name": "Python 3",
   "language": "python",
   "name": "python3"
  },
  "language_info": {
   "codemirror_mode": {
    "name": "ipython",
    "version": 3
   },
   "file_extension": ".py",
   "mimetype": "text/x-python",
   "name": "python",
   "nbconvert_exporter": "python",
   "pygments_lexer": "ipython3",
   "version": "3.10.7 (tags/v3.10.7:6cc6b13, Sep  5 2022, 14:08:36) [MSC v.1933 64 bit (AMD64)]"
  },
  "orig_nbformat": 4,
  "vscode": {
   "interpreter": {
    "hash": "09bd51c65e3967470b51ee3918780014dc6560b5e31a11d14c6c57b5ea25010f"
   }
  }
 },
 "nbformat": 4,
 "nbformat_minor": 2
}
