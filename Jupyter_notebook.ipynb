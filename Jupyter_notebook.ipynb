{
 "cells": [
  {
   "cell_type": "markdown",
   "metadata": {},
   "source": [
    "# Unit 9 ~ FLOW OF CONTROL"
   ]
  },
  {
   "cell_type": "markdown",
   "metadata": {},
   "source": [
    "Textbook 319 - 32: Write a program to check if a given number is an Armstrong number or not."
   ]
  },
  {
   "cell_type": "code",
   "execution_count": 16,
   "metadata": {},
   "outputs": [
    {
     "name": "stdout",
     "output_type": "stream",
     "text": [
      "454 is not an Armstrong Number.\n"
     ]
    }
   ],
   "source": [
    "# Note: If a 3 digit number is equal to the sum of the cubes of its each digit, then it is an Armstrong Number.\n",
    "\n",
    "a = int(input(\"Input a 3 digit Number: \"))\n",
    "temp = a\n",
    "sum = 0\n",
    "\n",
    "while (temp > 0):\n",
    "    digit = temp % 10\n",
    "    sum += digit ** 3\n",
    "    temp //= 10\n",
    "\n",
    "if (a == sum):\n",
    "    print(a, \"is an Armstrong Number.\")\n",
    "else:\n",
    "    print(a, \"is not an Armstrong Number.\")"
   ]
  },
  {
   "cell_type": "markdown",
   "metadata": {},
   "source": [
    "33: Write a program to check if a given number is a palindrome number or not. |\n",
    "        Example: 12321"
   ]
  },
  {
   "cell_type": "code",
   "execution_count": 17,
   "metadata": {},
   "outputs": [
    {
     "name": "stdout",
     "output_type": "stream",
     "text": [
      "Number 444 is a Palindrome.\n"
     ]
    }
   ],
   "source": [
    "# ~ A Palindrome number's reversed number is same as the number.\n",
    "\n",
    "a = int(input(\"Input a number: \"))\n",
    "initial = a\n",
    "rev = 0\n",
    "\n",
    "while (initial > 0):\n",
    "    dig = initial % 10\n",
    "    rev = rev*10 + dig\n",
    "    initial = initial // 10\n",
    "\n",
    "if (a == rev):\n",
    "    print(\"Number\",a,\"is a Palindrome.\")\n",
    "else:\n",
    "    print(\"Number\",a,\"is not a Palindrome.\")"
   ]
  },
  {
   "cell_type": "markdown",
   "metadata": {},
   "source": [
    "Textbook 320 - 34: Write a program to print Fibonacci series."
   ]
  },
  {
   "cell_type": "code",
   "execution_count": 5,
   "metadata": {},
   "outputs": [
    {
     "name": "stdout",
     "output_type": "stream",
     "text": [
      "Fibonacci Series For 10 is:\n",
      "0 "
     ]
    },
    {
     "ename": "NameError",
     "evalue": "name 'c' is not defined",
     "output_type": "error",
     "traceback": [
      "\u001b[1;31m---------------------------------------------------------------------------\u001b[0m",
      "\u001b[1;31mNameError\u001b[0m                                 Traceback (most recent call last)",
      "Cell \u001b[1;32mIn[5], line 11\u001b[0m\n\u001b[0;32m      9\u001b[0m \u001b[39mfor\u001b[39;00m i \u001b[39min\u001b[39;00m \u001b[39mrange\u001b[39m (\u001b[39m0\u001b[39m , terms):\n\u001b[0;32m     10\u001b[0m     \u001b[39mprint\u001b[39m(\u001b[39msum\u001b[39m, end \u001b[39m=\u001b[39m \u001b[39m\"\u001b[39m\u001b[39m \u001b[39m\u001b[39m\"\u001b[39m)\n\u001b[1;32m---> 11\u001b[0m     c \u001b[39m+\u001b[39m\u001b[39m=\u001b[39m \u001b[39m1\u001b[39m\n\u001b[0;32m     12\u001b[0m     a \u001b[39m=\u001b[39m b\n\u001b[0;32m     13\u001b[0m     b \u001b[39m=\u001b[39m \u001b[39msum\u001b[39m\n",
      "\u001b[1;31mNameError\u001b[0m: name 'c' is not defined"
     ]
    }
   ],
   "source": [
    "terms = 10\n",
    "\n",
    "a = 0\n",
    "b = 1\n",
    "sum = 0\n",
    "count = 1\n",
    "print(\"Fibonacci Series For\", terms,\"is:\")\n",
    "\n",
    "for i in range (0 , terms):\n",
    "    print(sum, end = \" \")\n",
    "    count += 1\n",
    "    a = b\n",
    "    b = sum\n",
    "    sum = a + b"
   ]
  },
  {
   "attachments": {},
   "cell_type": "markdown",
   "metadata": {},
   "source": [
    "----"
   ]
  },
  {
   "cell_type": "markdown",
   "metadata": {},
   "source": [
    "# Unit 10 ~ STRING MANIPULATION"
   ]
  },
  {
   "cell_type": "markdown",
   "metadata": {},
   "source": [
    "Pending~\n",
    ".traversion - finished\n",
    ".slicing - finished\n",
    ".each_string_functions() - ongoing"
   ]
  },
  {
   "cell_type": "markdown",
   "metadata": {},
   "source": [
    "## Introduction"
   ]
  },
  {
   "cell_type": "markdown",
   "metadata": {},
   "source": [
    "1 - String Traversion"
   ]
  },
  {
   "cell_type": "code",
   "execution_count": 19,
   "metadata": {},
   "outputs": [
    {
     "name": "stdout",
     "output_type": "stream",
     "text": [
      "a.p.p.u.c.h.a.n."
     ]
    }
   ],
   "source": [
    "# Traversing through a string with for loop.\n",
    "\n",
    "test = \"appuchan\"\n",
    "\n",
    "for i in test:\n",
    "    print(i,end='.')"
   ]
  },
  {
   "cell_type": "markdown",
   "metadata": {},
   "source": [
    "2 - String Slicing"
   ]
  },
  {
   "cell_type": "code",
   "execution_count": 20,
   "metadata": {},
   "outputs": [
    {
     "name": "stdout",
     "output_type": "stream",
     "text": [
      "That\n"
     ]
    }
   ],
   "source": [
    "# Slicing, Prints the string from a specified position. => str[x:y] (X to y)\n",
    "\n",
    "test_str = \"CheckThatOut\"\n",
    "print(test_str[5:9])"
   ]
  },
  {
   "cell_type": "markdown",
   "metadata": {},
   "source": [
    "### 3 - STRING FUNCTIONS AND METHODS \n",
    "#### Every built-in String Manipulation Functions from [Page 345 to 353] will be covered."
   ]
  },
  {
   "cell_type": "markdown",
   "metadata": {},
   "source": [
    "1 - len() function"
   ]
  },
  {
   "cell_type": "code",
   "execution_count": 21,
   "metadata": {},
   "outputs": [
    {
     "name": "stdout",
     "output_type": "stream",
     "text": [
      "Length of string 'Sasha Loves potatoes' = 20\n",
      "Number of characters inside this list : 5\n"
     ]
    }
   ],
   "source": [
    "#len() returns length of a string, number of items in a list, etc.\n",
    "\n",
    "aotstr = \"Sasha Loves potatoes\"\n",
    "print(\"Length of string 'Sasha Loves potatoes' =\", len(aotstr))\n",
    "\n",
    "aotlist = [\"Eren\", \"Armin\", \"Mikasa\", \"Levi\", \"Sasha\"]\n",
    "print(\"Number of characters inside this list :\", len(aotlist))"
   ]
  },
  {
   "cell_type": "markdown",
   "metadata": {},
   "source": [
    "2 - capitalize() method"
   ]
  },
  {
   "cell_type": "code",
   "execution_count": 22,
   "metadata": {},
   "outputs": [
    {
     "data": {
      "text/plain": [
       "'Abcd'"
      ]
     },
     "execution_count": 22,
     "metadata": {},
     "output_type": "execute_result"
    }
   ],
   "source": [
    "#capitalize() capitalizes first letter of a string.\n",
    "\n",
    "test = \"abcd\"\n",
    "test.capitalize()"
   ]
  },
  {
   "cell_type": "markdown",
   "metadata": {},
   "source": [
    "3 - count() method"
   ]
  },
  {
   "cell_type": "code",
   "execution_count": 23,
   "metadata": {},
   "outputs": [
    {
     "data": {
      "text/plain": [
       "8"
      ]
     },
     "execution_count": 23,
     "metadata": {},
     "output_type": "execute_result"
    }
   ],
   "source": [
    "#count() outputs number of occurrences of the specified substring in string.\n",
    "\n",
    "test = \"Red Bulb Blue Bulb Red Bulb Blue Bulb Red Bulb Blue Bulb Red Bulb Blue Bulb\"\n",
    "test.count(\"Bulb\")"
   ]
  },
  {
   "cell_type": "markdown",
   "metadata": {},
   "source": [
    "4 - find() method"
   ]
  },
  {
   "cell_type": "code",
   "execution_count": 24,
   "metadata": {},
   "outputs": [
    {
     "name": "stdout",
     "output_type": "stream",
     "text": [
      "18\n",
      "-1\n"
     ]
    }
   ],
   "source": [
    "#find() outputs the lowest index in the string where the specified substring is found.\n",
    "#Note ~ find() outputs -1 if substring is not found.\n",
    "\n",
    "test = \"The bottom of the deep blue sea\"\n",
    "print(test.find(\"deep\"))\n",
    "print(test.find(\"deeep\")) # =>> Outputs -1"
   ]
  },
  {
   "cell_type": "markdown",
   "metadata": {},
   "source": [
    "5 - index() method"
   ]
  },
  {
   "cell_type": "code",
   "execution_count": 25,
   "metadata": {},
   "outputs": [
    {
     "name": "stdout",
     "output_type": "stream",
     "text": [
      "18\n"
     ]
    },
    {
     "ename": "ValueError",
     "evalue": "substring not found",
     "output_type": "error",
     "traceback": [
      "\u001b[1;31m---------------------------------------------------------------------------\u001b[0m",
      "\u001b[1;31mValueError\u001b[0m                                Traceback (most recent call last)",
      "Cell \u001b[1;32mIn [25], line 4\u001b[0m\n\u001b[0;32m      2\u001b[0m test \u001b[39m=\u001b[39m \u001b[39m\"\u001b[39m\u001b[39mThe bottom of the deep blue sea\u001b[39m\u001b[39m\"\u001b[39m\n\u001b[0;32m      3\u001b[0m \u001b[39mprint\u001b[39m(test\u001b[39m.\u001b[39mindex(\u001b[39m\"\u001b[39m\u001b[39mdeep\u001b[39m\u001b[39m\"\u001b[39m))\n\u001b[1;32m----> 4\u001b[0m \u001b[39mprint\u001b[39m(test\u001b[39m.\u001b[39;49mindex(\u001b[39m\"\u001b[39;49m\u001b[39mdep\u001b[39;49m\u001b[39m\"\u001b[39;49m))\n",
      "\u001b[1;31mValueError\u001b[0m: substring not found"
     ]
    }
   ],
   "source": [
    "#index() is same as find(), it outputs the lowest index, but raises ValueError if substring is not found within a string.\n",
    "test = \"The bottom of the deep blue sea\"\n",
    "print(test.index(\"deep\"))\n",
    "print(test.index(\"dep\")) # =>> ValueError occurs"
   ]
  },
  {
   "cell_type": "markdown",
   "metadata": {},
   "source": [
    "6 - isalnum() method"
   ]
  },
  {
   "cell_type": "code",
   "execution_count": null,
   "metadata": {},
   "outputs": [
    {
     "name": "stdout",
     "output_type": "stream",
     "text": [
      "True\n",
      "True\n",
      "True\n",
      "False\n"
     ]
    }
   ],
   "source": [
    "#isalnum() returns True if characters in the string are alphanumeric and there is atleast one character, False otherwise.\n",
    "testx = (\"test\", \"Test6969\",\"5656\",\" \")\n",
    "for a in testx:\n",
    "    print(a.isalnum())\n",
    "\n",
    "#Here, 4th object in tuple(testx) does not contain any characters. thus output is false."
   ]
  },
  {
   "cell_type": "markdown",
   "metadata": {},
   "source": [
    "7 - isalpha() method"
   ]
  },
  {
   "cell_type": "code",
   "execution_count": 1,
   "metadata": {},
   "outputs": [
    {
     "name": "stdout",
     "output_type": "stream",
     "text": [
      "True\n",
      "False\n",
      "False\n"
     ]
    }
   ],
   "source": [
    "#isalpha() returns True only if every characters in a string contains alphabets, false otherwise\n",
    "\n",
    "testx = \"abcd\"\n",
    "testy = \"ab12\"\n",
    "testz = \"123\"\n",
    "\n",
    "print(testx.isalpha()) \n",
    "print(testy.isalpha()) # False, has numbers.\n",
    "print(testz.isalpha()) # \""
   ]
  },
  {
   "attachments": {},
   "cell_type": "markdown",
   "metadata": {},
   "source": [
    "im too lazy to write rest of these methods,\n",
    "end."
   ]
  }
 ],
 "metadata": {
  "kernelspec": {
   "display_name": "Python 3",
   "language": "python",
   "name": "python3"
  },
  "language_info": {
   "codemirror_mode": {
    "name": "ipython",
    "version": 3
   },
   "file_extension": ".py",
   "mimetype": "text/x-python",
   "name": "python",
   "nbconvert_exporter": "python",
   "pygments_lexer": "ipython3",
   "version": "3.9.13"
  },
  "orig_nbformat": 4,
  "vscode": {
   "interpreter": {
    "hash": "dd6d239af1dbe857655d479659e8207e886f8a06e33712304110f91ea9215fb9"
   }
  }
 },
 "nbformat": 4,
 "nbformat_minor": 2
}
