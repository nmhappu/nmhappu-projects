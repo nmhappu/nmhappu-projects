{
 "cells": [
  {
   "attachments": {},
   "cell_type": "markdown",
   "metadata": {},
   "source": [
    "# Lab Records ~ 1 - 6"
   ]
  },
  {
   "attachments": {},
   "cell_type": "markdown",
   "metadata": {},
   "source": [
    "##### 1 ~ Program to input 'Welcome Message' and display it.  *Done!*"
   ]
  },
  {
   "cell_type": "code",
   "execution_count": 9,
   "metadata": {},
   "outputs": [
    {
     "name": "stdout",
     "output_type": "stream",
     "text": [
      "Hello, NMHAppu7345\n"
     ]
    }
   ],
   "source": [
    "a = input(\"Enter a Welcome Message\")\n",
    "print(\"Hello,\",a)"
   ]
  },
  {
   "attachments": {},
   "cell_type": "markdown",
   "metadata": {},
   "source": [
    "##### 2 ~ Program to obtain 3 numbers and print their sum. *Done*"
   ]
  },
  {
   "cell_type": "code",
   "execution_count": 10,
   "metadata": {},
   "outputs": [
    {
     "ename": "ValueError",
     "evalue": "invalid literal for int() with base 10: ''",
     "output_type": "error",
     "traceback": [
      "\u001b[0;31m---------------------------------------------------------------------------\u001b[0m",
      "\u001b[0;31mValueError\u001b[0m                                Traceback (most recent call last)",
      "Cell \u001b[0;32mIn[10], line 1\u001b[0m\n\u001b[0;32m----> 1\u001b[0m a \u001b[39m=\u001b[39m \u001b[39mint\u001b[39;49m(\u001b[39minput\u001b[39;49m(\u001b[39m\"\u001b[39;49m\u001b[39mEnter Num1\u001b[39;49m\u001b[39m\"\u001b[39;49m))\n\u001b[1;32m      2\u001b[0m b \u001b[39m=\u001b[39m \u001b[39mint\u001b[39m(\u001b[39minput\u001b[39m(\u001b[39m\"\u001b[39m\u001b[39mEnter Num2\u001b[39m\u001b[39m\"\u001b[39m))\n\u001b[1;32m      3\u001b[0m c \u001b[39m=\u001b[39m \u001b[39mint\u001b[39m(\u001b[39minput\u001b[39m(\u001b[39m\"\u001b[39m\u001b[39mEnter Num2\u001b[39m\u001b[39m\"\u001b[39m))\n",
      "\u001b[0;31mValueError\u001b[0m: invalid literal for int() with base 10: ''"
     ]
    }
   ],
   "source": [
    "a = int(input(\"Enter Num1\"))\n",
    "b = int(input(\"Enter Num2\"))\n",
    "c = int(input(\"Enter Num2\"))\n",
    "x = a + b + c \n",
    "print(a,\"+\",b,\"+\",c,\"=\",x)"
   ]
  },
  {
   "attachments": {},
   "cell_type": "markdown",
   "metadata": {},
   "source": [
    "##### 3 ~ Program that takes a number and checks whether the given number is ***odd*** or ***even.*** "
   ]
  },
  {
   "cell_type": "code",
   "execution_count": null,
   "metadata": {},
   "outputs": [
    {
     "name": "stdout",
     "output_type": "stream",
     "text": [
      "Even.\n"
     ]
    }
   ],
   "source": [
    "a = int(input(\"Enter a number\"))\n",
    "b = a % 2\n",
    "if b == 0:\n",
    "    print(\"Even.\")\n",
    "else:\n",
    "    print(\"Odd.\")\n",
    "\n",
    "    "
   ]
  },
  {
   "attachments": {},
   "cell_type": "markdown",
   "metadata": {},
   "source": [
    "##### 4 ~ Program to accept *3 Integers* and print ***largest*** of those 3."
   ]
  },
  {
   "cell_type": "code",
   "execution_count": null,
   "metadata": {},
   "outputs": [
    {
     "name": "stdout",
     "output_type": "stream",
     "text": [
      "Largest Number: 5\n"
     ]
    }
   ],
   "source": [
    "a = int(input(\"Enter Number 1:\"))\n",
    "b = int(input(\"Enter Number 2:\"))\n",
    "c = int(input(\"Enter Number 3:\"))\n",
    "\n",
    "x = a\n",
    "\n",
    "if b >= a:\n",
    "    x = b\n",
    "    \n",
    "if c >= x:\n",
    "    x = c\n",
    "\n",
    "print(\"Largest Number:\",x)"
   ]
  },
  {
   "attachments": {},
   "cell_type": "markdown",
   "metadata": {},
   "source": [
    "##### 5 ~ Program to print the number of ***uppercase***, ***lowercase***, and ***digits*** in a string."
   ]
  },
  {
   "cell_type": "code",
   "execution_count": 1,
   "metadata": {},
   "outputs": [
    {
     "name": "stdout",
     "output_type": "stream",
     "text": [
      "False\n",
      "Number of Uppercase Letters: 3\n",
      "Number of Lowercase Letters: 3\n",
      "Number of Digits: 4\n"
     ]
    }
   ],
   "source": [
    "a = str(input(\"Enter a sentence\"))\n",
    "x = 0\n",
    "y = 0\n",
    "z = 0\n",
    "\n",
    "for i in a:\n",
    "    if i.isupper() == True:\n",
    "        x += 1\n",
    "    if i.islower() == True:\n",
    "        y += 1\n",
    "    if i.isdigit() == True:\n",
    "        z += 1\n",
    "\n",
    "print(\"Number of Uppercase Letters:\", x)\n",
    "print(\"Number of Lowercase Letters:\", y)\n",
    "print(\"Number of Digits:\", z)"
   ]
  },
  {
   "attachments": {},
   "cell_type": "markdown",
   "metadata": {},
   "source": [
    "##### 6 ~ Program to calculate the **Factorial** of a given number."
   ]
  },
  {
   "cell_type": "code",
   "execution_count": null,
   "metadata": {},
   "outputs": [],
   "source": [
    "number = int(input(\"Enter a number:\"))\n",
    "fc = 1\n",
    "for i in range(1,number+1):\n",
    "    fc = fc*i\n",
    "\n",
    "print(\"Factorial of\",number,\"=\",fc)"
   ]
  }
 ],
 "metadata": {
  "kernelspec": {
   "display_name": "Python 3",
   "language": "python",
   "name": "python3"
  },
  "language_info": {
   "codemirror_mode": {
    "name": "ipython",
    "version": 3
   },
   "file_extension": ".py",
   "mimetype": "text/x-python",
   "name": "python",
   "nbconvert_exporter": "python",
   "pygments_lexer": "ipython3",
   "version": "3.10.6"
  },
  "orig_nbformat": 4,
  "vscode": {
   "interpreter": {
    "hash": "916dbcbb3f70747c44a77c7bcd40155683ae19c65e1c03b4aa3499c5328201f1"
   }
  }
 },
 "nbformat": 4,
 "nbformat_minor": 2
}
