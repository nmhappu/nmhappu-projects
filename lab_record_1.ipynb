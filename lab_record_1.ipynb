{
 "cells": [
  {
   "attachments": {},
   "cell_type": "markdown",
   "metadata": {},
   "source": [
    "# Lab Records ~ 1 - 8"
   ]
  },
  {
   "attachments": {},
   "cell_type": "markdown",
   "metadata": {},
   "source": [
    "##### 1 ~ Program to input 'Welcome Message' and display it."
   ]
  },
  {
   "cell_type": "code",
   "execution_count": 1,
   "metadata": {},
   "outputs": [
    {
     "name": "stdout",
     "output_type": "stream",
     "text": [
      "Hello, Welcome to python world\n"
     ]
    }
   ],
   "source": [
    "a = input(\"Enter a Welcome Message\")\n",
    "print(\"Hello,\",a)"
   ]
  },
  {
   "attachments": {},
   "cell_type": "markdown",
   "metadata": {},
   "source": [
    "##### 2 ~ Program to obtain 3 numbers and print their sum."
   ]
  },
  {
   "cell_type": "code",
   "execution_count": 2,
   "metadata": {},
   "outputs": [
    {
     "name": "stdout",
     "output_type": "stream",
     "text": [
      "5 + 9 + 4 = 18\n"
     ]
    }
   ],
   "source": [
    "a = int(input(\"Enter Num1\"))\n",
    "b = int(input(\"Enter Num2\"))\n",
    "c = int(input(\"Enter Num3\"))\n",
    "x = a + b + c \n",
    "print(a,\"+\",b,\"+\",c,\"=\",x)"
   ]
  },
  {
   "attachments": {},
   "cell_type": "markdown",
   "metadata": {},
   "source": [
    "##### 3 ~ Program that takes a number and checks whether the given number is ***odd*** or ***even.*** "
   ]
  },
  {
   "cell_type": "code",
   "execution_count": 1,
   "metadata": {},
   "outputs": [
    {
     "name": "stdout",
     "output_type": "stream",
     "text": [
      "Odd.\n"
     ]
    }
   ],
   "source": [
    "a = int(input(\"Enter a number\"))\n",
    "b = a % 2\n",
    "if b == 0:\n",
    "    print(\"Even.\")\n",
    "else:\n",
    "    print(\"Odd.\")\n",
    "\n",
    "    "
   ]
  },
  {
   "attachments": {},
   "cell_type": "markdown",
   "metadata": {},
   "source": [
    "##### 4 ~ Program to accept *3 Integers* and print ***largest*** of those 3."
   ]
  },
  {
   "cell_type": "code",
   "execution_count": 4,
   "metadata": {},
   "outputs": [
    {
     "name": "stdout",
     "output_type": "stream",
     "text": [
      "Largest Number: 9\n"
     ]
    }
   ],
   "source": [
    "a = int(input(\"Enter Number 1:\"))\n",
    "b = int(input(\"Enter Number 2:\"))\n",
    "c = int(input(\"Enter Number 3:\"))\n",
    "\n",
    "x = a\n",
    "\n",
    "if b >= a:\n",
    "    x = b\n",
    "    \n",
    "if c >= x:\n",
    "    x = c\n",
    "\n",
    "print(\"Largest Number:\",x)"
   ]
  },
  {
   "attachments": {},
   "cell_type": "markdown",
   "metadata": {},
   "source": [
    "##### 5 ~ Program to print the number of ***uppercase***, ***lowercase***, and ***digits*** in a string."
   ]
  },
  {
   "cell_type": "code",
   "execution_count": 5,
   "metadata": {},
   "outputs": [
    {
     "name": "stdout",
     "output_type": "stream",
     "text": [
      "Number of Uppercase Letters: 5\n",
      "Number of Lowercase Letters: 6\n",
      "Number of Digits: 2\n"
     ]
    }
   ],
   "source": [
    "a = str(input(\"Enter a sentence\"))\n",
    "x = 0\n",
    "y = 0\n",
    "z = 0\n",
    "\n",
    "for i in a:\n",
    "    if i.isupper() == True:\n",
    "        x += 1\n",
    "    if i.islower() == True:\n",
    "        y += 1\n",
    "    if i.isdigit() == True:\n",
    "        z += 1\n",
    "\n",
    "print(\"Number of Uppercase Letters:\", x)\n",
    "print(\"Number of Lowercase Letters:\", y)\n",
    "print(\"Number of Digits:\", z)"
   ]
  },
  {
   "attachments": {},
   "cell_type": "markdown",
   "metadata": {},
   "source": [
    "##### 6 ~ Program to calculate the **Factorial** of a given number."
   ]
  },
  {
   "cell_type": "code",
   "execution_count": 8,
   "metadata": {},
   "outputs": [
    {
     "name": "stdout",
     "output_type": "stream",
     "text": [
      "Factorial of 9 = 362880\n"
     ]
    }
   ],
   "source": [
    "number = int(input(\"Enter a number:\"))\n",
    "fc = 1\n",
    "for i in range(1,number+1):\n",
    "    fc = fc*i\n",
    "\n",
    "print(\"Factorial of\",number,\"=\",fc)"
   ]
  },
  {
   "attachments": {},
   "cell_type": "markdown",
   "metadata": {},
   "source": [
    "##### 7 ~ Program to display a menu for calculating area of a circle or perimeter of a circle."
   ]
  },
  {
   "cell_type": "code",
   "execution_count": 13,
   "metadata": {},
   "outputs": [
    {
     "name": "stdout",
     "output_type": "stream",
     "text": [
      "1 - Calculate Area\n",
      "2 - Calculate Perimeter\n",
      "Area of circle with radius 5.0 is 78.53975\n"
     ]
    }
   ],
   "source": [
    "r = float(input(\"Enter radius of the circle:\"))\n",
    "print(\"1 - Calculate Area\")\n",
    "print(\"2 - Calculate Perimeter\")\n",
    "\n",
    "choice = int(input(\"Type your choice, (1 or 2)\"))\n",
    "\n",
    "if choice == 1:\n",
    "    area = 3.14159 * r * r\n",
    "    print(\"Area of circle with radius\", r, 'is', area)\n",
    "else:\n",
    "    prm = 2 * 3.14159 * r\n",
    "    print(\"Perimeter of circle with radius\", r, 'is', prm)"
   ]
  },
  {
   "attachments": {},
   "cell_type": "markdown",
   "metadata": {},
   "source": [
    "##### 8 ~ Program that reads 3 numbers and prints them in ascending order"
   ]
  },
  {
   "cell_type": "code",
   "execution_count": 14,
   "metadata": {},
   "outputs": [
    {
     "name": "stdout",
     "output_type": "stream",
     "text": [
      "Numbers in ascending order : 22 42 69\n"
     ]
    }
   ],
   "source": [
    "x= int(input( \"Enter first number :\"))\n",
    "y= int(input( \"Enter second number:\"))\n",
    "z= int(input( \"Enter third number :\"))\n",
    "\n",
    "min = mid = max = None\n",
    "if x<y and x<z:\n",
    "    if y<z:\n",
    "        min, mid, max=x,y,z\n",
    "    else:\n",
    "        min,mid,max=x,z,y\n",
    "\n",
    "elif y<x and y<z:\n",
    "    if x<z:\n",
    "        min, mid, max=y,x,z\n",
    "    else:\n",
    "        min, mid, max=y,z,x\n",
    "\n",
    "else:\n",
    "    if x<y:\n",
    "        min, mid, max=z,x,y\n",
    "    else:\n",
    "        min, mid,max=z,y,x\n",
    "        \n",
    "print (\"Numbers in ascending order :\", min, mid, max)"
   ]
  },
  {
   "attachments": {},
   "cell_type": "markdown",
   "metadata": {},
   "source": [
    "##### 7 ~ Program to print the sum of natural numbers between 1 - 7"
   ]
  },
  {
   "cell_type": "code",
   "execution_count": 4,
   "metadata": {},
   "outputs": [
    {
     "name": "stdout",
     "output_type": "stream",
     "text": [
      "1\n",
      "3\n",
      "6\n",
      "10\n",
      "15\n",
      "21\n",
      "28\n"
     ]
    }
   ],
   "source": [
    "s = 0\n",
    "for i in range(1,8):\n",
    "    s = s +  i \n",
    "    print(s)"
   ]
  },
  {
   "attachments": {},
   "cell_type": "markdown",
   "metadata": {},
   "source": [
    "##### 12 ~ Write a program that ask the user for a string and doubles its characters while it prints that string, eg (ssiippoo)"
   ]
  },
  {
   "cell_type": "code",
   "execution_count": 7,
   "metadata": {},
   "outputs": [
    {
     "name": "stdout",
     "output_type": "stream",
     "text": [
      "ss\n",
      "ii\n",
      "pp\n",
      "oo\n"
     ]
    }
   ],
   "source": [
    "a = input(\"Enter a string\")\n",
    "for i in a:\n",
    "    print(i*2,end=\"\")"
   ]
  },
  {
   "cell_type": "code",
   "execution_count": null,
   "metadata": {},
   "outputs": [],
   "source": []
  }
 ],
 "metadata": {
  "kernelspec": {
   "display_name": "Python 3",
   "language": "python",
   "name": "python3"
  },
  "language_info": {
   "codemirror_mode": {
    "name": "ipython",
    "version": 3
   },
   "file_extension": ".py",
   "mimetype": "text/x-python",
   "name": "python",
   "nbconvert_exporter": "python",
   "pygments_lexer": "ipython3",
   "version": "3.10.4"
  },
  "orig_nbformat": 4,
  "vscode": {
   "interpreter": {
    "hash": "3ad933181bd8a04b432d3370b9dc3b0662ad032c4dfaa4e4f1596c548f763858"
   }
  }
 },
 "nbformat": 4,
 "nbformat_minor": 2
}
