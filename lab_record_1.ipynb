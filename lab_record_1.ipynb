{
 "cells": [
  {
   "attachments": {},
   "cell_type": "markdown",
   "metadata": {},
   "source": [
    "# Lab Records ~ 1 - 6"
   ]
  },
  {
   "attachments": {},
   "cell_type": "markdown",
   "metadata": {},
   "source": [
    "##### 1 ~ Program to input 'Welcome Message' and display it.  *Done!*"
   ]
  },
  {
   "cell_type": "code",
   "execution_count": 29,
   "metadata": {},
   "outputs": [
    {
     "name": "stdout",
     "output_type": "stream",
     "text": [
      "Hello, Welcome to python\n"
     ]
    }
   ],
   "source": [
    "a = input(\"Enter a Welcome Message\")\n",
    "print(\"Hello,\",a)"
   ]
  },
  {
   "attachments": {},
   "cell_type": "markdown",
   "metadata": {},
   "source": [
    "##### 2 ~ Program to obtain 3 numbers and print their sum. *Done*"
   ]
  },
  {
   "cell_type": "code",
   "execution_count": 30,
   "metadata": {},
   "outputs": [
    {
     "name": "stdout",
     "output_type": "stream",
     "text": [
      "1 + 2 = 3\n"
     ]
    }
   ],
   "source": [
    "a = int(input(\"Enter Num1\"))\n",
    "b = int(input(\"Enter Num2\"))\n",
    "c = a + b \n",
    "print(a,\"+\",b,\"=\",c)"
   ]
  },
  {
   "attachments": {},
   "cell_type": "markdown",
   "metadata": {},
   "source": [
    "##### 3 ~ Program that takes a number and checks whether the given number is ***odd*** or ***even.*** "
   ]
  },
  {
   "cell_type": "code",
   "execution_count": 34,
   "metadata": {},
   "outputs": [
    {
     "name": "stdout",
     "output_type": "stream",
     "text": [
      "Even.\n"
     ]
    }
   ],
   "source": [
    "a = int(input(\"Enter a number\"))\n",
    "b = a % 2\n",
    "if b == 0:\n",
    "    print(\"Even.\")\n",
    "else:\n",
    "    print(\"Odd.\")\n",
    "\n",
    "    "
   ]
  },
  {
   "attachments": {},
   "cell_type": "markdown",
   "metadata": {},
   "source": [
    "##### 4 ~ Program to accept *3 Integers* and print ***largest*** of those 3."
   ]
  },
  {
   "cell_type": "code",
   "execution_count": 33,
   "metadata": {},
   "outputs": [
    {
     "name": "stdout",
     "output_type": "stream",
     "text": [
      "Largest Number: 9\n"
     ]
    }
   ],
   "source": [
    "a = int(input(\"Enter Number 1:\"))\n",
    "b = int(input(\"Enter Number 2:\"))\n",
    "c = int(input(\"Enter Number 3:\"))\n",
    "\n",
    "x = a\n",
    "\n",
    "if b >= a:\n",
    "    x = b\n",
    "    \n",
    "if c >= x:\n",
    "    x = c\n",
    "\n",
    "print(\"Largest Number:\",x)"
   ]
  },
  {
   "attachments": {},
   "cell_type": "markdown",
   "metadata": {},
   "source": [
    "##### 5 ~ Program to print the number of ***uppercase***, ***lowercase***, and ***digits*** in a string."
   ]
  },
  {
   "cell_type": "code",
   "execution_count": 39,
   "metadata": {},
   "outputs": [
    {
     "ename": "TypeError",
     "evalue": "cannot unpack non-iterable int object",
     "output_type": "error",
     "traceback": [
      "\u001b[1;31m---------------------------------------------------------------------------\u001b[0m",
      "\u001b[1;31mTypeError\u001b[0m                                 Traceback (most recent call last)",
      "Cell \u001b[1;32mIn[39], line 2\u001b[0m\n\u001b[0;32m      1\u001b[0m a \u001b[39m=\u001b[39m \u001b[39mstr\u001b[39m(\u001b[39minput\u001b[39m(\u001b[39m\"\u001b[39m\u001b[39mEnter a sentence\u001b[39m\u001b[39m\"\u001b[39m))\n\u001b[1;32m----> 2\u001b[0m x,y,z \u001b[39m=\u001b[39m \u001b[39m0\u001b[39m\n\u001b[0;32m      4\u001b[0m \u001b[39mprint\u001b[39m(a\u001b[39m.\u001b[39misdigit())\n\u001b[0;32m      6\u001b[0m \u001b[39mfor\u001b[39;00m i \u001b[39min\u001b[39;00m a:\n",
      "\u001b[1;31mTypeError\u001b[0m: cannot unpack non-iterable int object"
     ]
    }
   ],
   "source": [
    "a = str(input(\"Enter a sentence\"))\n",
    "x = 0\n",
    "y = 0\n",
    "z = 0\n",
    "\n",
    "print(a.isdigit())\n",
    "\n",
    "for i in a:\n",
    "    if i.isupper() == True:\n",
    "        x += 1\n",
    "    if i.islower() == True:\n",
    "        y += 1\n",
    "    if i.isdigit() == True:\n",
    "        z += 1\n",
    "\n",
    "print(\"Number of Uppercase letters:\",x,\"\\nNumber of Lowercase letters:\",y,\"\\nNumber of Digits:\",z)"
   ]
  }
 ],
 "metadata": {
  "kernelspec": {
   "display_name": "Python 3",
   "language": "python",
   "name": "python3"
  },
  "language_info": {
   "codemirror_mode": {
    "name": "ipython",
    "version": 3
   },
   "file_extension": ".py",
   "mimetype": "text/x-python",
   "name": "python",
   "nbconvert_exporter": "python",
   "pygments_lexer": "ipython3",
   "version": "3.9.13"
  },
  "orig_nbformat": 4,
  "vscode": {
   "interpreter": {
    "hash": "dd6d239af1dbe857655d479659e8207e886f8a06e33712304110f91ea9215fb9"
   }
  }
 },
 "nbformat": 4,
 "nbformat_minor": 2
}
